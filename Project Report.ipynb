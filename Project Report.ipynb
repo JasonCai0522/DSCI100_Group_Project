{
 "cells": [
  {
   "cell_type": "code",
   "execution_count": null,
   "id": "190d554a-62ea-4b29-9577-ccd724ce77be",
   "metadata": {},
   "outputs": [],
   "source": []
  }
 ],
 "metadata": {
  "kernelspec": {
   "display_name": "R",
   "language": "R",
   "name": "ir"
  },
  "language_info": {
   "codemirror_mode": "r",
   "file_extension": ".r",
   "mimetype": "text/x-r-source",
   "name": "R",
   "pygments_lexer": "r",
   "version": "4.3.3"
  }
 },
 "nbformat": 4,
 "nbformat_minor": 5
}
