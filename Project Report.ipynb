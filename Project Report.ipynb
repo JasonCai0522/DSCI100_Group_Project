{
 "cells": [
  {
   "cell_type": "markdown",
   "id": "278e77ff-087e-4a49-b8c2-9ecf34c8c1fa",
   "metadata": {},
   "source": [
    "# Project Report"
   ]
  },
  {
   "cell_type": "markdown",
   "id": "68570c19-7146-4b5f-8e69-aa7869012a49",
   "metadata": {},
   "source": [
    "## Introduction"
   ]
  },
  {
   "cell_type": "markdown",
   "id": "bfe13f93-330d-4398-b7d4-57d164568fc1",
   "metadata": {},
   "source": [
    "#### Background Information\n",
    "A computer science research team led by Frank Wood is currently collecting data about how people play video games, specifically Minecraft. To do this, they set up a Minecraft server and meticulously record player actions and data, including their age, experience level, hours of play, whether the player is subscribed, and more. In general, there are three board questions the team is hoping to answer:\n",
    "\n",
    "1. What player characteristics and behaviours are most predictive of subscribing to a game-related newsletter, and how do these features differ between various player types?\n",
    "\n",
    "2. We would like to know which \"kinds\" of players are most likely to contribute a large amount of data so that we can target those players in our recruiting efforts.\n",
    "\n",
    "3. We are interested in demand forecasting, namely, what time windows are most likely to have a large number of simultaneous players. This is because we need to ensure that the number of licenses on hand is sufficiently large to accommodate all parallel players with high probability. \n"
   ]
  },
  {
   "cell_type": "markdown",
   "id": "9ce00141-7af7-4703-94e9-e719a26d5a5d",
   "metadata": {},
   "source": [
    "#### Specific Question:\n",
    "\n",
    "Can the variables experience, age, subscribe, and gender predict played_hours in players.csv?"
   ]
  },
  {
   "cell_type": "markdown",
   "id": "556ac293-1805-4a28-be87-0abf9a598cea",
   "metadata": {},
   "source": [
    "#### Dataset Description\n",
    "\n",
    "##### The \"Players\" dataset contains 7 variables and 196 observations:\n",
    " \n",
    "- __experience__ *(Character)*: How experienced the player is\n",
    "- __hashedEmail__ *(Character)*: The player's email hashed\n",
    "- __name__ *(Character)*: The name of the player\n",
    "- __gender__ *(Character)*: The gender of the player\n",
    "- __played_hours__ *(Double)*: How many hours the player played\n",
    "- __Age__ *(Double)*: The age of the player\n",
    "- __subscribe__ *(logical)*: If the player is subscribed\n"
   ]
  },
  {
   "cell_type": "markdown",
   "id": "df2d9908-c4cd-456d-ae48-ec99a8f1ba12",
   "metadata": {},
   "source": [
    "## Methods\n"
   ]
  },
  {
   "cell_type": "markdown",
   "id": "edecb9c7-ba92-4f65-937d-37bd8f2ea5d8",
   "metadata": {},
   "source": [
    "#### Loading Data: \n",
    "\n",
    "Data was loaded from \"https://raw.githubusercontent.com/JasonCai0522/DSCI100_Datasets/refs/heads/main/players.csv\"\n"
   ]
  },
  {
   "cell_type": "markdown",
   "id": "f2a88fc4-0914-4349-8990-027185f4287d",
   "metadata": {},
   "source": [
    "#### Wrangling and Cleaning Data: \n",
    "\n",
    "To clean the data, we first decided to change the variables __experience__, __gender__, and __subscribe__ from *character* type to *factor* type   "
   ]
  },
  {
   "cell_type": "code",
   "execution_count": null,
   "id": "048ddd05-4bb2-4098-b802-a8d8b26e33e4",
   "metadata": {},
   "outputs": [],
   "source": []
  }
 ],
 "metadata": {
  "kernelspec": {
   "display_name": "R",
   "language": "R",
   "name": "ir"
  },
  "language_info": {
   "codemirror_mode": "r",
   "file_extension": ".r",
   "mimetype": "text/x-r-source",
   "name": "R",
   "pygments_lexer": "r",
   "version": "4.3.3"
  }
 },
 "nbformat": 4,
 "nbformat_minor": 5
}
